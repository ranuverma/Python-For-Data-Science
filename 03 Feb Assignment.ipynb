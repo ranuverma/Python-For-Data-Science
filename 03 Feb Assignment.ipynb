{
 "cells": [
  {
   "cell_type": "code",
   "execution_count": 1,
   "id": "d40a9912-4f6b-4baf-9ec1-709a25ac7fc2",
   "metadata": {},
   "outputs": [
    {
     "name": "stdout",
     "output_type": "stream",
     "text": [
      "def keyword is being used to create a function\n",
      "\n",
      "list of odd numbers in the range of 1 to 25 :\n",
      " [1, 3, 5, 7, 9, 11, 13, 15, 17, 19, 21, 23, 25]\n"
     ]
    }
   ],
   "source": [
    "\"\"\"  Q1. Which keyword is used to create a function? \n",
    "         Create a function to return a list of odd numbers in the range of 1 to 25.\n",
    "\"\"\"\n",
    "# Ans ==> \n",
    "\n",
    "print(\"def keyword is being used to create a function\")\n",
    "nums=range(1,26)\n",
    "list1=list(nums)\n",
    "def list_of_odd(list1):\n",
    "    return list1[::2]\n",
    "print()\n",
    "print(\"list of odd numbers in the range of 1 to 25 :\\n\",list_of_odd(list1))"
   ]
  },
  {
   "cell_type": "code",
   "execution_count": null,
   "id": "fcca2e03-4d39-4557-990c-e2e15a31d0d4",
   "metadata": {},
   "outputs": [],
   "source": []
  },
  {
   "cell_type": "code",
   "execution_count": 2,
   "id": "061671fe-f522-434a-9426-b531f451dd7a",
   "metadata": {},
   "outputs": [
    {
     "name": "stdout",
     "output_type": "stream",
     "text": [
      "*args and **kwargs allows us to pass musltiple arguments or keyword arguments to a function\n",
      "*args example :\n",
      "15\n",
      "**kwargs example :\n",
      "Data Science Masters By PW Skills \n"
     ]
    }
   ],
   "source": [
    " \"\"\"\n",
    "Q2. Why *args and **kwargs is used in some functions? \n",
    "     Create a function each for *args and **kwargs to demonstrate their use.\n",
    " \"\"\"\n",
    "print(\"*args and **kwargs allows us to pass musltiple arguments or keyword arguments to a function\")\n",
    "print(\"*args example :\")\n",
    "\n",
    "def my_sum(*args):\n",
    "    result = 0              # Iterating over the Python args tuple\n",
    "    for x in args:\n",
    "        result += x\n",
    "    return result\n",
    "\n",
    "print(my_sum(1,2,3,4,5))\n",
    "\n",
    "print(\"**kwargs example :\")\n",
    "\n",
    "def concatenate(**words):\n",
    "    result = \"\"\n",
    "    for arg in words.values():\n",
    "        result += arg+\" \"\n",
    "    return result\n",
    "\n",
    "print(concatenate(a=\"Data\",b=\"Science\",c=\"Masters\",d=\"By\",e=\"PW\",f=\"Skills\"))"
   ]
  },
  {
   "cell_type": "code",
   "execution_count": null,
   "id": "2eece45b-39ae-4f53-a637-db7ffeb2e235",
   "metadata": {},
   "outputs": [],
   "source": []
  },
  {
   "cell_type": "code",
   "execution_count": 3,
   "id": "13553442-5f88-40da-b861-47887ecdd6cb",
   "metadata": {},
   "outputs": [
    {
     "name": "stdout",
     "output_type": "stream",
     "text": [
      "An Iterator is an object used to iterate over iterable objects like,lists,touplrs,dicts & sets\n",
      "it is initialise by using 'iter() methor' and for iteration using 'next() method' is being used\n",
      "1 th element is :  2\n",
      "2 th element is :  4\n",
      "3 th element is :  6\n",
      "4 th element is :  8\n",
      "5 th element is :  10\n"
     ]
    }
   ],
   "source": [
    "\"\"\"\n",
    "Q3. What is an iterator in python? \n",
    "    Name the method used to initialise the iterator object and the method used for iteration. \n",
    "    Use these methods to print the first five elements of the given \n",
    "    list [2, 4, 6, 8, 10, 12, 14,16, 18, 20].\n",
    "\"\"\"\n",
    "#Ans :\n",
    "print(\"An Iterator is an object used to iterate over iterable objects like,lists,touplrs,dicts & sets\")\n",
    "print(\"it is initialise by using 'iter() methor' and for iteration using 'next() method' is being used\")\n",
    "list1=[2,4,6,8,10,12,14,18,20]\n",
    "my_list=iter(list1)\n",
    "i=1\n",
    "while i <=5:\n",
    "    print(i,'th element is : ',next(my_list))\n",
    "    i+=1"
   ]
  },
  {
   "cell_type": "code",
   "execution_count": null,
   "id": "2ac58c0c-f1d9-4ba8-be0a-518f15579e51",
   "metadata": {},
   "outputs": [],
   "source": []
  },
  {
   "cell_type": "code",
   "execution_count": 4,
   "id": "db16877b-350b-4ce4-8f83-c3dbad8a27da",
   "metadata": {},
   "outputs": [
    {
     "name": "stdout",
     "output_type": "stream",
     "text": [
      "generator is a special type of function,responsible to generate sequence of values\n",
      "\n",
      "'yield' keyword is used to return values of generator function\n",
      "\n",
      "Example:print first 'n' value by using generator function :\n",
      "\n"
     ]
    },
    {
     "name": "stdin",
     "output_type": "stream",
     "text": [
      "enter nth number 10\n"
     ]
    },
    {
     "name": "stdout",
     "output_type": "stream",
     "text": [
      "1\n",
      "2\n",
      "3\n",
      "4\n",
      "5\n",
      "6\n",
      "7\n",
      "8\n",
      "9\n",
      "10\n"
     ]
    }
   ],
   "source": [
    "\"\"\"\n",
    "Q4. What is a generator function in python? \n",
    "    Why yield keyword is used? \n",
    "    Give an example of a generator function.\n",
    "    \n",
    "\"\"\"\n",
    "#Ans ==>\n",
    "\n",
    "print(\"generator is a special type of function,responsible to generate sequence of values\\n\")\n",
    "print(\"'yield' keyword is used to return values of generator function\\n\")\n",
    "print(\"Example:print first 'n' value by using generator function :\\n\")\n",
    "num=int(input(\"enter nth number\"))\n",
    "def demo_generator(num):\n",
    "    i=1\n",
    "    while i<=num:\n",
    "        yield i\n",
    "        i+=1\n",
    "g=demo_generator(num)\n",
    "for val in g:\n",
    "    print(val)"
   ]
  },
  {
   "cell_type": "code",
   "execution_count": null,
   "id": "016a73cf-7f75-4f69-9ea8-14c9b6e746c9",
   "metadata": {},
   "outputs": [],
   "source": []
  },
  {
   "cell_type": "code",
   "execution_count": 5,
   "id": "b90d12dc-2d82-4617-8355-3893135301ab",
   "metadata": {},
   "outputs": [
    {
     "name": "stdout",
     "output_type": "stream",
     "text": [
      "Prime numbers under 1000 are :\n",
      "\n",
      "2 3 5 7 11 13 17 19 23 29 31 37 41 43 47 53 59 61 67 71 73 79 83 89 97 101 103 107 109 113 127 131 137 139 149 151 157 163 167 173 179 181 191 193 197 199 211 223 227 229 233 239 241 251 257 263 269 271 277 281 283 293 307 311 313 317 331 337 347 349 353 359 367 373 379 383 389 397 401 409 419 421 431 433 439 443 449 457 461 463 467 479 487 491 499 503 509 521 523 541 547 557 563 569 571 577 587 593 599 601 607 613 617 619 631 641 643 647 653 659 661 673 677 683 691 701 709 719 727 733 739 743 751 757 761 769 773 787 797 809 811 821 823 827 829 839 853 857 859 863 877 881 883 887 907 911 919 929 937 941 947 953 967 971 977 983 991 997 "
     ]
    }
   ],
   "source": [
    "\"\"\"\n",
    "Q5. Create a generator function for prime numbers less than 1000. \n",
    "    Use the next() method to print the first 20 prime numbers.\n",
    "    \n",
    "\"\"\"\n",
    "n=1000\n",
    "def primetill1000(n):\n",
    "    i=2\n",
    "    while i<=n:\n",
    "        count=0\n",
    "        for j in range(1,i):\n",
    "            if i%j==0:\n",
    "                count+=1\n",
    "        if(count<2):\n",
    "            yield i\n",
    "        i+=1\n",
    "g=primetill1000(n)\n",
    "print(\"Prime numbers under 1000 are :\\n\")\n",
    "for x in g:\n",
    "    print(x,end=' ')"
   ]
  },
  {
   "cell_type": "code",
   "execution_count": null,
   "id": "89fda24c-a34a-476d-9cb9-c56d25e1ce05",
   "metadata": {},
   "outputs": [],
   "source": []
  },
  {
   "cell_type": "code",
   "execution_count": 6,
   "id": "bb75e7cc-013e-4b69-b8ee-3b1cc5519e2f",
   "metadata": {},
   "outputs": [
    {
     "name": "stdout",
     "output_type": "stream",
     "text": [
      "first 10 fibonacci number :\n",
      "\n",
      "0 1 1 2 3 5 8 13 21 34 "
     ]
    }
   ],
   "source": [
    "# Q6. Write a python program to print the first 10 Fibonacci numbers using a while loop.\n",
    "def fib(n):\n",
    "    fib1=0\n",
    "    fib2=1\n",
    "    i=0\n",
    "    while i<n:\n",
    "        if(i<2):\n",
    "            yield i\n",
    "        else:\n",
    "            temp=fib1+fib2\n",
    "            fib1=fib2\n",
    "            fib2=temp\n",
    "            yield fib2\n",
    "        i+=1\n",
    "n=10\n",
    "g=fib(n)\n",
    "print(\"first 10 fibonacci number :\\n\")\n",
    "for x in g:\n",
    "    print(x,end=\" \")"
   ]
  },
  {
   "cell_type": "code",
   "execution_count": null,
   "id": "74e83e00-e00b-4464-936e-52526215163c",
   "metadata": {},
   "outputs": [],
   "source": []
  },
  {
   "cell_type": "code",
   "execution_count": 7,
   "id": "dc996f11-a285-4f8a-8ded-04e1a567db6c",
   "metadata": {},
   "outputs": [
    {
     "name": "stdout",
     "output_type": "stream",
     "text": [
      "['p', 'w', 's', 'k', 'i', 'l', 'l', 's']\n"
     ]
    }
   ],
   "source": [
    "\"\"\"\n",
    "Q7. Write a List Comprehension to iterate through the given string: ‘pwskills’.\n",
    "    Expected output: ['p', 'w', 's', 'k', 'i', 'l', 'l', 's']\n",
    "    \n",
    "\"\"\"\n",
    "s=\"pwskills\"\n",
    "print([x for x in s])"
   ]
  },
  {
   "cell_type": "code",
   "execution_count": null,
   "id": "de84ad0a-a22a-45f2-8ee0-1441b65ef4d2",
   "metadata": {},
   "outputs": [],
   "source": []
  },
  {
   "cell_type": "code",
   "execution_count": 8,
   "id": "c0fbc330-ecdb-42ac-8649-ee18675ad67e",
   "metadata": {},
   "outputs": [
    {
     "name": "stdin",
     "output_type": "stream",
     "text": [
      "Enter any number :  12321\n"
     ]
    },
    {
     "name": "stdout",
     "output_type": "stream",
     "text": [
      "12321  is a palindrome number\n"
     ]
    }
   ],
   "source": [
    "\"\"\"\n",
    "Q8. Write a python program to check whether a given number is Palindrome or not \n",
    "    using a while loop.\n",
    "    \n",
    "\"\"\"\n",
    "num=int(input(\"Enter any number : \"))\n",
    "temp=num\n",
    "sum=0\n",
    "while temp !=0:\n",
    "    rem=temp%10\n",
    "    sum=sum*10+rem\n",
    "    temp=temp//10\n",
    "if(int(sum)==num):\n",
    "    print(num,\" is a palindrome number\")\n",
    "else:\n",
    "    print(num,\" is not a palindrome number\")"
   ]
  },
  {
   "cell_type": "code",
   "execution_count": null,
   "id": "de90e94b-e104-4545-a19f-027c3fe2a1e2",
   "metadata": {},
   "outputs": [],
   "source": []
  },
  {
   "cell_type": "code",
   "execution_count": 9,
   "id": "f10e3749-0b3f-4691-a6a2-aff19c390805",
   "metadata": {},
   "outputs": [
    {
     "name": "stdout",
     "output_type": "stream",
     "text": [
      "[2, 4, 6, 8, 10, 12, 14, 16, 18, 20, 22, 24, 26, 28, 30, 32, 34, 36, 38, 40, 42, 44, 46, 48, 50, 52, 54, 56, 58, 60, 62, 64, 66, 68, 70, 72, 74, 76, 78, 80, 82, 84, 86, 88, 90, 92, 94, 96, 98]\n"
     ]
    }
   ],
   "source": [
    "\"\"\"\n",
    "Q9. Write a code to print odd numbers from 1 to 100 using list comprehension.\n",
    "    Note: Use a list comprehension to create a list from 1 to 100 and use another \n",
    "    List comprehension to filter out odd numbers.\n",
    "\"\"\"\n",
    "\n",
    "l=[x for x in range(1,100) if x%2==0]\n",
    "print(l)"
   ]
  },
  {
   "cell_type": "code",
   "execution_count": null,
   "id": "d0ee22b2-97da-406c-b0c7-71e2521af0ee",
   "metadata": {},
   "outputs": [],
   "source": []
  },
  {
   "cell_type": "code",
   "execution_count": null,
   "id": "da6ab3fd-b676-445d-a2a7-b288403c311c",
   "metadata": {},
   "outputs": [],
   "source": []
  },
  {
   "cell_type": "code",
   "execution_count": null,
   "id": "5767e853-34e3-4a21-aa2a-d162f3d4d67d",
   "metadata": {},
   "outputs": [],
   "source": []
  },
  {
   "cell_type": "code",
   "execution_count": null,
   "id": "7f87adf2-0e39-4bfe-847f-6c610d51f5ff",
   "metadata": {},
   "outputs": [],
   "source": []
  },
  {
   "cell_type": "code",
   "execution_count": null,
   "id": "0d54e45b-3d55-4f8c-a206-0eedb771ed2d",
   "metadata": {},
   "outputs": [],
   "source": []
  },
  {
   "cell_type": "code",
   "execution_count": null,
   "id": "b6fe5c14-80c9-4f60-84bf-a63a15c3e504",
   "metadata": {},
   "outputs": [],
   "source": []
  },
  {
   "cell_type": "code",
   "execution_count": null,
   "id": "a5dead1a-e521-4a4b-9e4e-8f027827e22c",
   "metadata": {},
   "outputs": [],
   "source": []
  },
  {
   "cell_type": "code",
   "execution_count": null,
   "id": "73aa8a7f-89b0-4284-b814-a86ce90be874",
   "metadata": {},
   "outputs": [],
   "source": []
  },
  {
   "cell_type": "code",
   "execution_count": null,
   "id": "c2fc993b-888d-457b-b005-dc9c2f97ed19",
   "metadata": {},
   "outputs": [],
   "source": []
  },
  {
   "cell_type": "code",
   "execution_count": null,
   "id": "343089fc-94c6-411b-8777-7b32423a78f4",
   "metadata": {},
   "outputs": [],
   "source": []
  },
  {
   "cell_type": "code",
   "execution_count": null,
   "id": "db1db45b-3913-4767-a885-9bddd8aa389a",
   "metadata": {},
   "outputs": [],
   "source": []
  },
  {
   "cell_type": "code",
   "execution_count": null,
   "id": "4ee99b78-8b47-4f1a-944b-09aaf080701f",
   "metadata": {},
   "outputs": [],
   "source": []
  }
 ],
 "metadata": {
  "kernelspec": {
   "display_name": "Python 3 (ipykernel)",
   "language": "python",
   "name": "python3"
  },
  "language_info": {
   "codemirror_mode": {
    "name": "ipython",
    "version": 3
   },
   "file_extension": ".py",
   "mimetype": "text/x-python",
   "name": "python",
   "nbconvert_exporter": "python",
   "pygments_lexer": "ipython3",
   "version": "3.10.8"
  }
 },
 "nbformat": 4,
 "nbformat_minor": 5
}
