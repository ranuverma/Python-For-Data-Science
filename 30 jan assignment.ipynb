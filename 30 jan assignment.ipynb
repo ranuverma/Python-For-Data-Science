{
 "cells": [
  {
   "cell_type": "code",
   "execution_count": 1,
   "id": "a37364bd-8a0b-496d-bc4b-c4917ff09d9f",
   "metadata": {},
   "outputs": [
    {
     "name": "stdin",
     "output_type": "stream",
     "text": [
      "Enter percentage of Marks obtained :  95\n"
     ]
    },
    {
     "name": "stdout",
     "output_type": "stream",
     "text": [
      "\n",
      "Marks\tGrade\n",
      "95.0 \t A\n"
     ]
    }
   ],
   "source": [
    "# 1. Write a program to accept percentage from the user and display the grade according to \n",
    "# the following criteria:\n",
    "\n",
    "# Marks              Grade\n",
    "# >90                 A\n",
    "# >80 and <=90        B\n",
    "# >=60 and <=80       C\n",
    "# below 60            D\n",
    "\n",
    "marks=float(input(\"Enter percentage of Marks obtained : \"))\n",
    "if(marks>90):\n",
    "    grade=\"A\"\n",
    "elif(marks>80):\n",
    "    grade=\"B\"\n",
    "elif(marks>=60):\n",
    "    grade=\"C\"\n",
    "else:\n",
    "    grade=\"D\"\n",
    "print()\n",
    "print(\"Marks\\tGrade\")\n",
    "print(marks,\"\\t\",grade)"
   ]
  },
  {
   "cell_type": "code",
   "execution_count": null,
   "id": "13c6be05-12f2-42ea-a44d-7eb8e6837be7",
   "metadata": {},
   "outputs": [],
   "source": []
  },
  {
   "cell_type": "code",
   "execution_count": 2,
   "id": "58f997a7-4050-4a68-b4f9-b50244ca9002",
   "metadata": {},
   "outputs": [
    {
     "name": "stdin",
     "output_type": "stream",
     "text": [
      "Enter cost price of a bike :  123456\n"
     ]
    },
    {
     "name": "stdout",
     "output_type": "stream",
     "text": [
      "\n",
      "Tax \t Cost Price(in Rs) \t Payable tax amount(in Rs)\n",
      "15% \t 123456.0 \t\t 18518.4\n"
     ]
    }
   ],
   "source": [
    "# 2. Write a program to accept the cost price of a bike and display the road tax to be paid \n",
    "# according to the following criteria:\n",
    "\n",
    "# Tax       Cost Price(in Rs)\n",
    "# 15%        >100000\n",
    "# 10%        >50000 and <=100000\n",
    "# 5%         <=50000\n",
    "\n",
    "cost_price_of_bike=float(input(\"Enter cost price of a bike : \"))\n",
    "if(cost_price_of_bike>100000):\n",
    "    tax=\"15%\"\n",
    "    payable_tax_amount=cost_price_of_bike*15/100\n",
    "elif(cost_price_of_bike>50000):\n",
    "    tax=\"10%\"\n",
    "    payable_tax_amount=cost_price_of_bike*10/100\n",
    "else:\n",
    "    tax=\"5%\"\n",
    "    payable_tax_amount=cost_price_of_bike*5/100\n",
    "print()\n",
    "print(\"Tax \\t Cost Price(in Rs) \\t Payable tax amount(in Rs)\")\n",
    "print(tax,\"\\t\",cost_price_of_bike,\"\\t\\t\",payable_tax_amount)"
   ]
  },
  {
   "cell_type": "code",
   "execution_count": null,
   "id": "076ccc03-98f6-4767-bbad-16fa9aba5468",
   "metadata": {},
   "outputs": [],
   "source": []
  },
  {
   "cell_type": "code",
   "execution_count": 3,
   "id": "fbf4442a-f855-487d-b182-27e9163abacd",
   "metadata": {},
   "outputs": [
    {
     "name": "stdin",
     "output_type": "stream",
     "text": [
      "enter city name :  jaipur\n"
     ]
    },
    {
     "name": "stdout",
     "output_type": "stream",
     "text": [
      "\n",
      "City \t Monument\n",
      "Jaipur \t Jal Mahal\n"
     ]
    }
   ],
   "source": [
    "# Accept any city from the user and display monuments of that city\n",
    "\n",
    "# City             Monument\n",
    "# Delhi            Red Fort\n",
    "# Agra             Taj Mahal\n",
    "# jaiput           Jal Mahal\n",
    "\n",
    "city=input(\"enter city name : \")\n",
    "if(city.lower()==\"delhi\"):\n",
    "    monument=\"Red Fort\"\n",
    "    print()\n",
    "    print(\"City \\t Monument\")\n",
    "    print(city.capitalize(),\"\\t\",monument)\n",
    "elif(city.lower()==\"agra\"):\n",
    "    monument=\"Taj Mahal\"\n",
    "    print()\n",
    "    print(\"City \\t Monument\")\n",
    "    print(city.capitalize(),\"\\t\",monument)\n",
    "elif(city.lower()==\"jaipur\"):\n",
    "    monument=\"Jal Mahal\"\n",
    "    print()\n",
    "    print(\"City \\t Monument\")\n",
    "    print(city.capitalize(),\"\\t\",monument)\n",
    "else:\n",
    "    print(\"Monuments name only exists for 'Delhi','Agra' and 'Jaipur' \")"
   ]
  },
  {
   "cell_type": "code",
   "execution_count": null,
   "id": "2489c448-77f0-44d4-9379-11ba174ea52d",
   "metadata": {},
   "outputs": [],
   "source": []
  },
  {
   "cell_type": "code",
   "execution_count": 4,
   "id": "6a064db9-5077-44f5-8b4d-ee67ab611d86",
   "metadata": {},
   "outputs": [
    {
     "name": "stdin",
     "output_type": "stream",
     "text": [
      "Enter a number :  1543\n"
     ]
    },
    {
     "name": "stdout",
     "output_type": "stream",
     "text": [
      "'1543' can be divisible by 3 '5' times before it is less than or equal to 10\n"
     ]
    }
   ],
   "source": [
    "# 4. Check how many times a given number is divisible by 3 before it is less than or equal to 10\n",
    "\n",
    "num=int(input(\"Enter a number : \"))\n",
    "temp=num\n",
    "count=0\n",
    "if(temp<=10):\n",
    "    print(\"Number must have to be greater than 10 for this operation\")\n",
    "else:\n",
    "    while temp>10:\n",
    "        temp/=3\n",
    "        count+=1\n",
    "    print(\"'{}' can be divisible by 3 '{}' times before it is less than or equal to 10\".format(num,count))"
   ]
  },
  {
   "cell_type": "code",
   "execution_count": null,
   "id": "252fc050-129f-4f96-97df-9924e4ef78f6",
   "metadata": {},
   "outputs": [],
   "source": []
  },
  {
   "cell_type": "code",
   "execution_count": 5,
   "id": "484cf762-a39e-4d1c-b90f-15f97a76b3ca",
   "metadata": {},
   "outputs": [],
   "source": [
    "# 5. Why and when to use while loop in python give detailed discription about it ?\n",
    "\n",
    "# ==> When we don't know about number of iteration then we will use while loop by applying\n",
    "#     a breaking condition otherwise our loop will run infinitely .\n",
    "#     conditions we are applying in while loop :\n",
    "#         if we got desired values the use break statement to break the while loop\n",
    "#         if we don't want any value to be participated then we can use continue statement\n",
    "\n"
   ]
  },
  {
   "cell_type": "code",
   "execution_count": null,
   "id": "74f69394-9e0b-4b06-b2db-d13aa9cef258",
   "metadata": {},
   "outputs": [],
   "source": []
  },
  {
   "cell_type": "code",
   "execution_count": 6,
   "id": "10cbd73a-2158-406b-bfe1-55645ec3a0fd",
   "metadata": {},
   "outputs": [
    {
     "name": "stdout",
     "output_type": "stream",
     "text": [
      "12345\n",
      "1234\n",
      "123\n",
      "12\n",
      "1\n"
     ]
    }
   ],
   "source": [
    "# 6. Use nested while loop to print three different pattern\n",
    "\n",
    "x=5\n",
    "while x>0:\n",
    "    y=1\n",
    "    while y<=x:\n",
    "        print(y,end='')\n",
    "        y+=1\n",
    "    print()\n",
    "    x-=1"
   ]
  },
  {
   "cell_type": "code",
   "execution_count": 7,
   "id": "b0c0aad6-1fa4-457a-be0e-c6d62761b177",
   "metadata": {},
   "outputs": [
    {
     "name": "stdout",
     "output_type": "stream",
     "text": [
      "1\n",
      "12\n",
      "123\n",
      "1234\n",
      "12345\n"
     ]
    }
   ],
   "source": [
    "x=1\n",
    "while x<=5:\n",
    "    y=1\n",
    "    while y<=x:\n",
    "        print(y,end='')\n",
    "        y+=1\n",
    "    print()\n",
    "    x+=1"
   ]
  },
  {
   "cell_type": "code",
   "execution_count": 8,
   "id": "0e98f1ba-16d2-4958-8d87-f8e17311dda2",
   "metadata": {},
   "outputs": [
    {
     "name": "stdout",
     "output_type": "stream",
     "text": [
      "     5\n",
      "    4\n",
      "   3\n",
      "  2\n",
      " 1\n"
     ]
    }
   ],
   "source": [
    "x=5\n",
    "while x>0:\n",
    "    y=0\n",
    "    while y<=x:\n",
    "        if(y==x):\n",
    "            print(y,end='')\n",
    "        else:\n",
    "            print(\" \",end='')\n",
    "        y+=1\n",
    "    print()\n",
    "    x-=1\n",
    "    "
   ]
  },
  {
   "cell_type": "code",
   "execution_count": null,
   "id": "f7bce436-fde9-4637-a2ed-1a2bb07ba680",
   "metadata": {},
   "outputs": [],
   "source": []
  },
  {
   "cell_type": "code",
   "execution_count": 9,
   "id": "d6883b9e-8823-408e-8c1d-8920682e7c33",
   "metadata": {},
   "outputs": [
    {
     "name": "stdout",
     "output_type": "stream",
     "text": [
      "10\n",
      "9\n",
      "8\n",
      "7\n",
      "6\n",
      "5\n",
      "4\n",
      "3\n",
      "2\n",
      "1\n"
     ]
    }
   ],
   "source": [
    "# 7. Reverse a while loop to print numbers from 10 to 1\n",
    "\n",
    "num=10\n",
    "while num>0:\n",
    "    print(num)\n",
    "    num-=1"
   ]
  },
  {
   "cell_type": "code",
   "execution_count": null,
   "id": "0833524e-508b-47e2-b8d7-d30552151927",
   "metadata": {},
   "outputs": [],
   "source": []
  },
  {
   "cell_type": "code",
   "execution_count": 10,
   "id": "265ba744-fdb7-49e7-bf53-64b370b0c458",
   "metadata": {},
   "outputs": [
    {
     "name": "stdout",
     "output_type": "stream",
     "text": [
      "10\n",
      "9\n",
      "8\n",
      "7\n",
      "6\n",
      "5\n",
      "4\n",
      "3\n",
      "2\n",
      "1\n"
     ]
    }
   ],
   "source": [
    "# 8. Reverse a while loop to print numbers from 10 to 1\n",
    "\n",
    "num=10\n",
    "while num>0:\n",
    "    print(num)\n",
    "    num-=1"
   ]
  },
  {
   "cell_type": "code",
   "execution_count": null,
   "id": "4562fe90-6cd7-419a-8e64-7e154e0779de",
   "metadata": {},
   "outputs": [],
   "source": []
  },
  {
   "cell_type": "code",
   "execution_count": null,
   "id": "e15b8667-17b1-46da-bb10-564d18cfde2d",
   "metadata": {},
   "outputs": [],
   "source": []
  },
  {
   "cell_type": "code",
   "execution_count": null,
   "id": "146df01b-c3ff-48e4-b3a0-0ac176cd33af",
   "metadata": {},
   "outputs": [],
   "source": []
  },
  {
   "cell_type": "code",
   "execution_count": null,
   "id": "8ecda9a1-5068-4409-b203-338e089a3fa8",
   "metadata": {},
   "outputs": [],
   "source": []
  },
  {
   "cell_type": "code",
   "execution_count": null,
   "id": "11251cdd-af9b-4282-970e-7304ad258bd9",
   "metadata": {},
   "outputs": [],
   "source": []
  },
  {
   "cell_type": "code",
   "execution_count": null,
   "id": "f4ff07df-0f5c-4971-9d3b-58b9dc994552",
   "metadata": {},
   "outputs": [],
   "source": []
  }
 ],
 "metadata": {
  "kernelspec": {
   "display_name": "Python 3 (ipykernel)",
   "language": "python",
   "name": "python3"
  },
  "language_info": {
   "codemirror_mode": {
    "name": "ipython",
    "version": 3
   },
   "file_extension": ".py",
   "mimetype": "text/x-python",
   "name": "python",
   "nbconvert_exporter": "python",
   "pygments_lexer": "ipython3",
   "version": "3.10.8"
  }
 },
 "nbformat": 4,
 "nbformat_minor": 5
}
