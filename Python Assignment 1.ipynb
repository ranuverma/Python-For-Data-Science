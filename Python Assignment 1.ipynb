{
 "cells": [
  {
   "cell_type": "code",
   "execution_count": 1,
   "id": "e44ff8b7-6645-40c3-bdd9-79f5abe1e3cb",
   "metadata": {},
   "outputs": [],
   "source": [
    "# Q1. Explain with an example each when to use a for loop and a while loop."
   ]
  },
  {
   "cell_type": "code",
   "execution_count": 2,
   "id": "ad14c345-e7bf-4d57-b03e-e7c9a39ba087",
   "metadata": {},
   "outputs": [
    {
     "name": "stdout",
     "output_type": "stream",
     "text": [
      "1\n",
      "2\n",
      "3\n",
      "4\n",
      "5\n",
      "6\n",
      "7\n",
      "8\n",
      "9\n",
      "10\n"
     ]
    }
   ],
   "source": [
    "# use for loop : If the number of iteration is known\n",
    "# example we have to print number between a range 1 to 10\n",
    "x=1\n",
    "y=10\n",
    "for i in range(x,y+1):\n",
    "    print(i)"
   ]
  },
  {
   "cell_type": "code",
   "execution_count": 3,
   "id": "55cf3b5f-ecb4-413d-8ae2-a4a068484f88",
   "metadata": {},
   "outputs": [
    {
     "name": "stdout",
     "output_type": "stream",
     "text": [
      "1\n",
      "2\n",
      "3\n",
      "4\n",
      "5\n",
      "6\n",
      "7\n",
      "8\n",
      "9\n",
      "10\n"
     ]
    }
   ],
   "source": [
    "# use while loop : If the number of iteration is not known\n",
    "#example print all numbers from 1 untill it is less than or equal to 10\n",
    "x=1\n",
    "while True:\n",
    "    print(x)\n",
    "    x+=1\n",
    "    if(x>10):\n",
    "        break"
   ]
  },
  {
   "cell_type": "code",
   "execution_count": 4,
   "id": "3ea1d543-7ec8-4814-a219-921112817214",
   "metadata": {},
   "outputs": [
    {
     "name": "stdout",
     "output_type": "stream",
     "text": [
      "1\n",
      "2\n",
      "3\n",
      "4\n",
      "5\n",
      "6\n",
      "7\n",
      "8\n",
      "9\n",
      "10\n"
     ]
    }
   ],
   "source": [
    "x=1\n",
    "while x<=10:\n",
    "    print(x)\n",
    "    x+=1"
   ]
  },
  {
   "cell_type": "code",
   "execution_count": null,
   "id": "e5c0e580-d147-4dfc-892a-1150f2606e2e",
   "metadata": {},
   "outputs": [],
   "source": []
  },
  {
   "cell_type": "code",
   "execution_count": 5,
   "id": "1c731def-769b-4678-85a5-271d050611f2",
   "metadata": {},
   "outputs": [],
   "source": [
    "# Q2. Write a python program to print the sum and product of the first 10 natural numbers using for and while loop."
   ]
  },
  {
   "cell_type": "code",
   "execution_count": 6,
   "id": "6a882bfe-9fa9-4cdc-b4be-99f3aeed36b1",
   "metadata": {},
   "outputs": [
    {
     "name": "stdout",
     "output_type": "stream",
     "text": [
      "sum of first 10 natural numbers using for loop : 55\n"
     ]
    }
   ],
   "source": [
    "# sum of first 10 natural numbers using for loop\n",
    "sum_using_for_loop=0\n",
    "for i in range(1,11):  # i will be 1,2,3,4,5,6,7,8,9,10\n",
    "    sum_using_for_loop+=i\n",
    "print(\"sum of first 10 natural numbers using for loop :\",sum_using_for_loop)"
   ]
  },
  {
   "cell_type": "code",
   "execution_count": 7,
   "id": "605ca379-08dc-4875-9cdc-fe554b4157b1",
   "metadata": {},
   "outputs": [
    {
     "name": "stdout",
     "output_type": "stream",
     "text": [
      "sum of first 10 natural numbers using while loop : 55\n"
     ]
    }
   ],
   "source": [
    "# sum of first 10 natural numbers using while loop\n",
    "sum_using_while_loop=0\n",
    "i=1\n",
    "while i<=10:\n",
    "    sum_using_while_loop+=i\n",
    "    i+=1\n",
    "print(\"sum of first 10 natural numbers using while loop :\",sum_using_while_loop)"
   ]
  },
  {
   "cell_type": "code",
   "execution_count": 8,
   "id": "3a03f082-0b9b-43a8-a15d-31e9410612de",
   "metadata": {},
   "outputs": [
    {
     "name": "stdout",
     "output_type": "stream",
     "text": [
      "product of first 10 natural numbers using for loop : 3628800\n"
     ]
    }
   ],
   "source": [
    "# product of first 10 natural numbers using for loop\n",
    "product_using_for_loop=1\n",
    "for i in range(1,11):  # i will be 1,2,3,4,5,6,7,8,9,10\n",
    "    product_using_for_loop*=i\n",
    "print(\"product of first 10 natural numbers using for loop :\",product_using_for_loop)"
   ]
  },
  {
   "cell_type": "code",
   "execution_count": 9,
   "id": "88148c48-5daa-43a3-9ca2-f0eea0664ab8",
   "metadata": {},
   "outputs": [
    {
     "name": "stdout",
     "output_type": "stream",
     "text": [
      "product of first 10 natural numbers using while loop : 3628800\n"
     ]
    }
   ],
   "source": [
    "# product of first 10 natural numbers using while loop\n",
    "product_using_while_loop=1\n",
    "i=1\n",
    "while True:\n",
    "    product_using_while_loop*=i\n",
    "    i+=1\n",
    "    if(i>10):\n",
    "        break\n",
    "print(\"product of first 10 natural numbers using while loop :\",product_using_while_loop)"
   ]
  },
  {
   "cell_type": "code",
   "execution_count": null,
   "id": "5d0f7efe-1bf4-4e7b-b94b-d5bdc0131ae0",
   "metadata": {},
   "outputs": [],
   "source": []
  },
  {
   "cell_type": "code",
   "execution_count": 10,
   "id": "f14d06ae-6b2b-4179-8aae-b7cf0e90ec7f",
   "metadata": {},
   "outputs": [],
   "source": [
    "# Q3. Create a python program to compute the electricity bill for a household.\n",
    "# The per-unit charges in rupees are as follows: \n",
    "# For the first 100 units, the user will be chargedRs. 4.5 per unit, \n",
    "# for the next 100 units, the user will be charged Rs. 6 per unit, and \n",
    "# for the next 100 units, the user willbe charged Rs. 10 per unit, \n",
    "# After 300 units and above the user will be charged Rs. 20 per unit.\n",
    "\n",
    "# You are required to take the units of electricity consumed in a month from the user as input.\n",
    "# Your program must pass this test case: when the unit of electricity consumed by the user in a month is\n",
    "# 310, the total electricity bill should be 2250.0"
   ]
  },
  {
   "cell_type": "code",
   "execution_count": 11,
   "id": "0a8cde69-7801-48a2-99fb-8a430dda0c4d",
   "metadata": {},
   "outputs": [
    {
     "name": "stdin",
     "output_type": "stream",
     "text": [
      "enter total unit of electricity consumed in a month : 310\n"
     ]
    },
    {
     "name": "stdout",
     "output_type": "stream",
     "text": [
      "Total electricity consumed by you is 310 and payable amount =2250.0\n"
     ]
    }
   ],
   "source": [
    "unit=int(input(\"enter total unit of electricity consumed in a month :\"))\n",
    "if(unit<=100):      #if electricity used less than or equal to 100 units\n",
    "    amount=unit*4.5\n",
    "elif(unit<=200):\n",
    "    amount=100*4.5+(unit-100)*6\n",
    "elif(unit<=300):\n",
    "    amount=100*4.5+100*6+(unit-200)*10\n",
    "else:\n",
    "    amount=100*4.5+100*6+100*10+(unit-300)*20\n",
    "print(\"Total electricity consumed by you is {} and payable amount ={}\".format(unit,amount))"
   ]
  },
  {
   "cell_type": "code",
   "execution_count": null,
   "id": "28c1892a-d94c-4a5f-a999-4f3ac4220218",
   "metadata": {},
   "outputs": [],
   "source": []
  },
  {
   "cell_type": "code",
   "execution_count": 12,
   "id": "81bf441c-81b5-4577-b72f-c3e57434c083",
   "metadata": {},
   "outputs": [],
   "source": [
    "# Q4. Create a list of numbers from 1 to 100. Use for loop and while loop to calculate \n",
    "# the cube of each number and if the cube of that number is divisible by 4 or 5 then append \n",
    "# that number in a list and print that list."
   ]
  },
  {
   "cell_type": "code",
   "execution_count": 13,
   "id": "c2483f0e-5d19-43f7-8ed2-2454631c377c",
   "metadata": {},
   "outputs": [
    {
     "name": "stdout",
     "output_type": "stream",
     "text": [
      "Obtained list by using for loop :\n",
      " [2, 4, 5, 6, 8, 10, 12, 14, 15, 16, 18, 20, 22, 24, 25, 26, 28, 30, 32, 34, 35, 36, 38, 40, 42, 44, 45, 46, 48, 50, 52, 54, 55, 56, 58, 60, 62, 64, 65, 66, 68, 70, 72, 74, 75, 76, 78, 80, 82, 84, 85, 86, 88, 90, 92, 94, 95, 96, 98, 100]\n",
      "\n",
      "Obtained list by using while loop :\n",
      " [2, 4, 5, 6, 8, 10, 12, 14, 15, 16, 18, 20, 22, 24, 25, 26, 28, 30, 32, 34, 35, 36, 38, 40, 42, 44, 45, 46, 48, 50, 52, 54, 55, 56, 58, 60, 62, 64, 65, 66, 68, 70, 72, 74, 75, 76, 78, 80, 82, 84, 85, 86, 88, 90, 92, 94, 95, 96, 98, 100]\n"
     ]
    }
   ],
   "source": [
    "nums=range(1,101)\n",
    "list1=list(nums)\n",
    "list2=[]\n",
    "for i in list1:\n",
    "    cube=i**3\n",
    "    if((cube%4==0) or (cube%5==0)):\n",
    "        list2.append(i)\n",
    "print(\"Obtained list by using for loop :\\n\",list2)\n",
    "print()\n",
    "i=list1[0]\n",
    "list3=[]\n",
    "while True:\n",
    "    cube=i**3\n",
    "    if((cube%4==0) or (cube%5==0)):\n",
    "        list3.append(i)\n",
    "    i+=1\n",
    "    if(i>100):\n",
    "        break\n",
    "print(\"Obtained list by using while loop :\\n\",list3)"
   ]
  },
  {
   "cell_type": "code",
   "execution_count": null,
   "id": "00bf8669-02a2-4387-a691-fd1c8ad610b7",
   "metadata": {},
   "outputs": [],
   "source": []
  },
  {
   "cell_type": "code",
   "execution_count": 14,
   "id": "592bdb49-eebe-447e-b2d9-5235337d9234",
   "metadata": {},
   "outputs": [],
   "source": [
    "# Q5. Write a program to filter count vowels in the below-given string.\n",
    "# string = \"I want to become a data scientist\""
   ]
  },
  {
   "cell_type": "code",
   "execution_count": 15,
   "id": "c09f2f46-8a0d-49a9-9c01-27f423323f0b",
   "metadata": {},
   "outputs": [
    {
     "name": "stdout",
     "output_type": "stream",
     "text": [
      "Number of vowels persent in string 'I want to become a data scientist' is : 12\n"
     ]
    }
   ],
   "source": [
    "string = \"I want to become a data scientist\"\n",
    "count_of_vowels=0\n",
    "for i in string.lower():\n",
    "    if i in ['a','e','i','o','u']:\n",
    "        count_of_vowels+=1\n",
    "print(\"Number of vowels persent in string \\'{}\\' is : {}\".format(string,count_of_vowels))"
   ]
  },
  {
   "cell_type": "code",
   "execution_count": null,
   "id": "4581b3dd-9351-4e8a-8229-fc46ef2a5aae",
   "metadata": {},
   "outputs": [],
   "source": []
  },
  {
   "cell_type": "code",
   "execution_count": null,
   "id": "5b5aa51f-7489-41a6-8641-b0f747b83530",
   "metadata": {},
   "outputs": [],
   "source": []
  },
  {
   "cell_type": "code",
   "execution_count": null,
   "id": "24317eca-4b06-41f0-b549-1315f96543a3",
   "metadata": {},
   "outputs": [],
   "source": []
  },
  {
   "cell_type": "code",
   "execution_count": null,
   "id": "af5c7973-5270-4b6b-953b-ff3646c26be8",
   "metadata": {},
   "outputs": [],
   "source": []
  },
  {
   "cell_type": "code",
   "execution_count": null,
   "id": "a5be4510-f012-4d8c-b290-dcfc7fbb6a84",
   "metadata": {},
   "outputs": [],
   "source": []
  }
 ],
 "metadata": {
  "kernelspec": {
   "display_name": "Python 3 (ipykernel)",
   "language": "python",
   "name": "python3"
  },
  "language_info": {
   "codemirror_mode": {
    "name": "ipython",
    "version": 3
   },
   "file_extension": ".py",
   "mimetype": "text/x-python",
   "name": "python",
   "nbconvert_exporter": "python",
   "pygments_lexer": "ipython3",
   "version": "3.10.8"
  }
 },
 "nbformat": 4,
 "nbformat_minor": 5
}
