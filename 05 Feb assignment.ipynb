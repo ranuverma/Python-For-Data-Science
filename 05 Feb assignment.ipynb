{
 "cells": [
  {
   "cell_type": "markdown",
   "id": "8a63b9fd-ed84-4626-8b54-1b010da4ebfe",
   "metadata": {},
   "source": [
    "OOP's Concept"
   ]
  },
  {
   "cell_type": "code",
   "execution_count": 1,
   "id": "d2263fe7-8a28-431b-a840-c981ea97b373",
   "metadata": {},
   "outputs": [
    {
     "name": "stdout",
     "output_type": "stream",
     "text": [
      "Class is basically a blueprint & on the basis of this blueprint we can create multiple oject of same type\n",
      "creating a class of student\n"
     ]
    }
   ],
   "source": [
    "\"\"\"\n",
    "Q1. Explain Class and Object with respect to Object-Oriented Programming. Give a suitable example.\n",
    "\n",
    "\"\"\"\n",
    "print(\"Class is basically a blueprint & on the basis of this blueprint we can create multiple oject of same type\")\n",
    "print(\"creating a class of student\")\n",
    "class student:\n",
    "    def __init__(self):      #__init__ is a constructor used to initialize a class\n",
    "        self.name=\"RV\"\n",
    "        self.age=24\n",
    "        self.marks=80"
   ]
  },
  {
   "cell_type": "code",
   "execution_count": null,
   "id": "449796ab-5c80-41ca-86b3-5e0dd8c6154b",
   "metadata": {},
   "outputs": [],
   "source": []
  },
  {
   "cell_type": "code",
   "execution_count": 2,
   "id": "e8baba43-43cc-4a19-9d9b-d5cd9f9a9748",
   "metadata": {},
   "outputs": [
    {
     "name": "stdout",
     "output_type": "stream",
     "text": [
      "Four pillars of OOPs are as follows :\n",
      "1.Inheritance \n",
      " 2.Polymorphism \n",
      " 3. Encapsulation \n",
      " 4.Abstraction\n"
     ]
    }
   ],
   "source": [
    "\"\"\"\n",
    "Q2. Name the four pillars of OOPs.\n",
    "\n",
    "\"\"\"\n",
    "print(\"Four pillars of OOPs are as follows :\")\n",
    "print(\"1.Inheritance \\n 2.Polymorphism \\n 3. Encapsulation \\n 4.Abstraction\")"
   ]
  },
  {
   "cell_type": "code",
   "execution_count": null,
   "id": "7ddffaf2-9e6c-4b34-826c-7386c63e6628",
   "metadata": {},
   "outputs": [],
   "source": []
  },
  {
   "cell_type": "code",
   "execution_count": 3,
   "id": "40cdebcb-e21a-45fe-b432-0b3e0be7bcf2",
   "metadata": {},
   "outputs": [
    {
     "name": "stdout",
     "output_type": "stream",
     "text": [
      "__init__() function is basically a constructor used for initialization\n"
     ]
    }
   ],
   "source": [
    "\"\"\"\n",
    "Q3. Explain why the __init__() function is used. Give a suitable example.\n",
    "\n",
    "\"\"\"\n",
    "print(\"__init__() function is basically a constructor used for initialization\")\n",
    "class student:\n",
    "    def __init__(self):      #__init__ is a constructor used to initialize a class\n",
    "        self.name=\"RV\"\n",
    "        self.age=24\n",
    "        self.marks=80"
   ]
  },
  {
   "cell_type": "code",
   "execution_count": null,
   "id": "d5412887-d89c-4386-8bf7-db19b212e4fd",
   "metadata": {},
   "outputs": [],
   "source": []
  },
  {
   "cell_type": "code",
   "execution_count": 4,
   "id": "d3172143-5c2d-46de-b8b7-7105439a5ba2",
   "metadata": {},
   "outputs": [
    {
     "name": "stdout",
     "output_type": "stream",
     "text": [
      "'self' is basically a default variable and it always points to current object\n",
      "By using self we can access instance variables and instance methods of object\n"
     ]
    }
   ],
   "source": [
    "\"\"\"\n",
    "Q4. Why self is used in OOPs?\n",
    "\n",
    "\"\"\"\n",
    "print(\"'self' is basically a default variable and it always points to current object\")\n",
    "print(\"By using self we can access instance variables and instance methods of object\")"
   ]
  },
  {
   "cell_type": "code",
   "execution_count": null,
   "id": "091d3e3a-503e-4d75-988c-ca1b1d914fb0",
   "metadata": {},
   "outputs": [],
   "source": []
  },
  {
   "cell_type": "code",
   "execution_count": 5,
   "id": "0c4af713-6166-4cbe-8149-79b0f5d7b31d",
   "metadata": {},
   "outputs": [
    {
     "name": "stdout",
     "output_type": "stream",
     "text": [
      "Inheritance is very useful to inherit all properties in child class from parent calss\n",
      "Types of inheritance : \n",
      "1.Single Inheritance \n",
      " 2.Multi Level inheritance \n",
      " 3.Hierarchical inheritance\n",
      "4.Multiple inheritance \n",
      " 5.Hybrid inheritance\n"
     ]
    }
   ],
   "source": [
    "\"\"\"\n",
    "Q5. What is inheritance? Give an example for each type of inheritance.\n",
    "\n",
    "\"\"\"\n",
    "print(\"Inheritance is very useful to inherit all properties in child class from parent calss\")\n",
    "print(\"Types of inheritance : \")\n",
    "print(\"1.Single Inheritance \\n 2.Multi Level inheritance \\n 3.Hierarchical inheritance\")\n",
    "print(\"4.Multiple inheritance \\n 5.Hybrid inheritance\")"
   ]
  },
  {
   "cell_type": "code",
   "execution_count": null,
   "id": "4c9018fc-d4a4-4cb4-b124-efbc8d32f3fb",
   "metadata": {},
   "outputs": [],
   "source": []
  },
  {
   "cell_type": "code",
   "execution_count": null,
   "id": "744f7add-6d62-498c-89a7-930cb2823271",
   "metadata": {},
   "outputs": [],
   "source": []
  }
 ],
 "metadata": {
  "kernelspec": {
   "display_name": "Python 3 (ipykernel)",
   "language": "python",
   "name": "python3"
  },
  "language_info": {
   "codemirror_mode": {
    "name": "ipython",
    "version": 3
   },
   "file_extension": ".py",
   "mimetype": "text/x-python",
   "name": "python",
   "nbconvert_exporter": "python",
   "pygments_lexer": "ipython3",
   "version": "3.10.8"
  }
 },
 "nbformat": 4,
 "nbformat_minor": 5
}
